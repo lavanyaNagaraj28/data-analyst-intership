{
 "cells": [
  {
   "cell_type": "markdown",
   "id": "5fb1f06d",
   "metadata": {},
   "source": [
    "# 🧠 Exploratory Data Analysis (EDA) on Titanic Dataset"
   ]
  },
  {
   "cell_type": "markdown",
   "id": "410142b8",
   "metadata": {},
   "source": [
    "\n",
    "### 🎯 Objective:\n",
    "Extract insights from the Titanic dataset using visual and statistical exploration.\n",
    "\n",
    "### 🧰 Tools Used:\n",
    "- **Python**: Pandas, Matplotlib, Seaborn\n",
    "- **Environment**: Jupyter Notebook\n",
    "\n",
    "### 📦 Dataset:\n",
    "- **train.csv**\n",
    "- **test.csv**\n",
    "- **gender_submission.csv**\n"
   ]
  },
  {
   "cell_type": "code",
   "execution_count": null,
   "id": "a09e2c90",
   "metadata": {},
   "outputs": [],
   "source": [
    "\n",
    "import pandas as pd\n",
    "import seaborn as sns\n",
    "import matplotlib.pyplot as plt\n",
    "\n",
    "# Load dataset\n",
    "train = pd.read_csv(\"train.csv\")\n",
    "train.head()\n"
   ]
  },
  {
   "cell_type": "markdown",
   "id": "b873db49",
   "metadata": {},
   "source": [
    "### 📊 Basic Data Information"
   ]
  },
  {
   "cell_type": "code",
   "execution_count": null,
   "id": "fee94a35",
   "metadata": {},
   "outputs": [],
   "source": [
    "\n",
    "train.info()\n",
    "train.describe(include='all')\n"
   ]
  },
  {
   "cell_type": "markdown",
   "id": "461b1539",
   "metadata": {},
   "source": [
    "### ⚖️ Survival Counts"
   ]
  },
  {
   "cell_type": "code",
   "execution_count": null,
   "id": "4e627379",
   "metadata": {},
   "outputs": [],
   "source": [
    "\n",
    "train['Survived'].value_counts()\n"
   ]
  },
  {
   "cell_type": "markdown",
   "id": "e83db3e9",
   "metadata": {},
   "source": [
    "### 📈 Visualizations"
   ]
  },
  {
   "cell_type": "code",
   "execution_count": null,
   "id": "2d186c7f",
   "metadata": {},
   "outputs": [],
   "source": [
    "\n",
    "sns.set(style=\"whitegrid\")\n",
    "\n",
    "# Histogram - Age Distribution\n",
    "plt.figure(figsize=(6,4))\n",
    "sns.histplot(train['Age'], kde=True, color='skyblue')\n",
    "plt.title(\"Distribution of Passenger Age\")\n",
    "plt.xlabel(\"Age\")\n",
    "plt.ylabel(\"Count\")\n",
    "plt.show()\n"
   ]
  },
  {
   "cell_type": "code",
   "execution_count": null,
   "id": "880315ea",
   "metadata": {},
   "outputs": [],
   "source": [
    "\n",
    "# Boxplot - Fare by Class\n",
    "plt.figure(figsize=(6,4))\n",
    "sns.boxplot(x='Pclass', y='Fare', data=train, palette='pastel')\n",
    "plt.title(\"Fare Distribution by Passenger Class\")\n",
    "plt.show()\n"
   ]
  },
  {
   "cell_type": "code",
   "execution_count": null,
   "id": "5b6660f4",
   "metadata": {},
   "outputs": [],
   "source": [
    "\n",
    "# Survival by Gender\n",
    "plt.figure(figsize=(6,4))\n",
    "sns.countplot(x='Sex', hue='Survived', data=train, palette='Set2')\n",
    "plt.title(\"Survival Count by Gender\")\n",
    "plt.show()\n"
   ]
  },
  {
   "cell_type": "code",
   "execution_count": null,
   "id": "819af23a",
   "metadata": {},
   "outputs": [],
   "source": [
    "\n",
    "# Correlation Heatmap\n",
    "plt.figure(figsize=(8,6))\n",
    "sns.heatmap(train.corr(numeric_only=True), annot=True, cmap='coolwarm')\n",
    "plt.title(\"Correlation Heatmap\")\n",
    "plt.show()\n"
   ]
  },
  {
   "cell_type": "markdown",
   "id": "8d1b1c04",
   "metadata": {},
   "source": [
    "\n",
    "### 🧩 Observations:\n",
    "- Most passengers are aged between 20–40 years.\n",
    "- Females had a higher survival rate than males.\n",
    "- 1st class passengers had the highest fares and survival rates.\n",
    "- Strong correlations between `Pclass`, `Fare`, and `Survived`.\n",
    "\n",
    "### 🧾 Summary of Findings:\n",
    "1. **Survival rate:** ~38%  \n",
    "2. **Gender:** Females more likely to survive  \n",
    "3. **Class:** 1st class passengers had better survival  \n",
    "4. **Age:** Children survived more often  \n",
    "5. **Fare:** Higher fares → higher survival chances  \n",
    "6. **Missing Data:** Age and Cabin columns have missing values  \n",
    "7. **Strong indicators of survival:** Sex, Pclass, Fare\n"
   ]
  }
 ],
 "metadata": {},
 "nbformat": 4,
 "nbformat_minor": 5
}
